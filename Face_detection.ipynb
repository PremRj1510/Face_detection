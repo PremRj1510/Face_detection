{
 "cells": [
  {
   "cell_type": "code",
   "execution_count": 17,
   "metadata": {},
   "outputs": [],
   "source": [
    "import cv2"
   ]
  },
  {
   "cell_type": "code",
   "execution_count": 18,
   "metadata": {},
   "outputs": [],
   "source": [
    "img= cv2.imread (\"shah.jpg\",1)"
   ]
  },
  {
   "cell_type": "code",
   "execution_count": 19,
   "metadata": {},
   "outputs": [
    {
     "name": "stdout",
     "output_type": "stream",
     "text": [
      "(400, 700, 3)\n"
     ]
    }
   ],
   "source": [
    "print(img.shape)"
   ]
  },
  {
   "cell_type": "code",
   "execution_count": 4,
   "metadata": {},
   "outputs": [
    {
     "name": "stdout",
     "output_type": "stream",
     "text": [
      "[[[239 233 234]\n",
      "  [239 233 234]\n",
      "  [239 233 234]\n",
      "  ...\n",
      "  [235 225 225]\n",
      "  [235 225 225]\n",
      "  [235 225 225]]\n",
      "\n",
      " [[237 231 232]\n",
      "  [237 231 232]\n",
      "  [237 231 232]\n",
      "  ...\n",
      "  [233 223 223]\n",
      "  [233 223 223]\n",
      "  [233 223 223]]\n",
      "\n",
      " [[235 229 230]\n",
      "  [235 229 230]\n",
      "  [234 228 229]\n",
      "  ...\n",
      "  [231 221 221]\n",
      "  [231 221 221]\n",
      "  [231 221 221]]\n",
      "\n",
      " ...\n",
      "\n",
      " [[235 225 225]\n",
      "  [235 225 225]\n",
      "  [234 224 224]\n",
      "  ...\n",
      "  [226 218 219]\n",
      "  [227 219 220]\n",
      "  [227 219 220]]\n",
      "\n",
      " [[237 227 227]\n",
      "  [237 227 227]\n",
      "  [237 227 227]\n",
      "  ...\n",
      "  [228 220 221]\n",
      "  [229 221 222]\n",
      "  [229 221 222]]\n",
      "\n",
      " [[239 229 229]\n",
      "  [239 229 229]\n",
      "  [239 229 229]\n",
      "  ...\n",
      "  [230 222 223]\n",
      "  [231 223 224]\n",
      "  [231 223 224]]]\n"
     ]
    }
   ],
   "source": [
    "print(img)"
   ]
  },
  {
   "cell_type": "code",
   "execution_count": 5,
   "metadata": {},
   "outputs": [
    {
     "name": "stdout",
     "output_type": "stream",
     "text": [
      "<class 'numpy.ndarray'>\n"
     ]
    }
   ],
   "source": [
    "print(type(img))"
   ]
  },
  {
   "cell_type": "code",
   "execution_count": 6,
   "metadata": {},
   "outputs": [],
   "source": [
    "resized = cv2.resize(img,(int(img.shape[1]/2),int(img.shape[0]/2)))\n",
    "cv2.imshow(\"flower\",resized)\n",
    "cv2.waitKey(0)\n",
    "cv2.destroyAllWindows()"
   ]
  },
  {
   "cell_type": "code",
   "execution_count": 20,
   "metadata": {},
   "outputs": [],
   "source": [
    "face_cascade= cv2.CascadeClassifier(\"haarcascade_frontalface_default.xml\")"
   ]
  },
  {
   "cell_type": "code",
   "execution_count": 21,
   "metadata": {},
   "outputs": [
    {
     "data": {
      "text/plain": [
       "array([[[239, 233, 234],\n",
       "        [239, 233, 234],\n",
       "        [239, 233, 234],\n",
       "        ...,\n",
       "        [235, 225, 225],\n",
       "        [235, 225, 225],\n",
       "        [235, 225, 225]],\n",
       "\n",
       "       [[237, 231, 232],\n",
       "        [237, 231, 232],\n",
       "        [237, 231, 232],\n",
       "        ...,\n",
       "        [233, 223, 223],\n",
       "        [233, 223, 223],\n",
       "        [233, 223, 223]],\n",
       "\n",
       "       [[235, 229, 230],\n",
       "        [235, 229, 230],\n",
       "        [234, 228, 229],\n",
       "        ...,\n",
       "        [231, 221, 221],\n",
       "        [231, 221, 221],\n",
       "        [231, 221, 221]],\n",
       "\n",
       "       ...,\n",
       "\n",
       "       [[235, 225, 225],\n",
       "        [235, 225, 225],\n",
       "        [234, 224, 224],\n",
       "        ...,\n",
       "        [226, 218, 219],\n",
       "        [227, 219, 220],\n",
       "        [227, 219, 220]],\n",
       "\n",
       "       [[237, 227, 227],\n",
       "        [237, 227, 227],\n",
       "        [237, 227, 227],\n",
       "        ...,\n",
       "        [228, 220, 221],\n",
       "        [229, 221, 222],\n",
       "        [229, 221, 222]],\n",
       "\n",
       "       [[239, 229, 229],\n",
       "        [239, 229, 229],\n",
       "        [239, 229, 229],\n",
       "        ...,\n",
       "        [230, 222, 223],\n",
       "        [231, 223, 224],\n",
       "        [231, 223, 224]]], dtype=uint8)"
      ]
     },
     "execution_count": 21,
     "metadata": {},
     "output_type": "execute_result"
    }
   ],
   "source": [
    "img"
   ]
  },
  {
   "cell_type": "code",
   "execution_count": 22,
   "metadata": {},
   "outputs": [],
   "source": [
    "grey_img= cv2.cvtColor(img, cv2.COLOR_BGR2GRAY)"
   ]
  },
  {
   "cell_type": "code",
   "execution_count": 23,
   "metadata": {},
   "outputs": [
    {
     "data": {
      "text/plain": [
       "array([[234, 234, 234, ..., 226, 226, 226],\n",
       "       [232, 232, 232, ..., 224, 224, 224],\n",
       "       [230, 230, 229, ..., 222, 222, 222],\n",
       "       ...,\n",
       "       [226, 226, 225, ..., 219, 220, 220],\n",
       "       [228, 228, 228, ..., 221, 222, 222],\n",
       "       [230, 230, 230, ..., 223, 224, 224]], dtype=uint8)"
      ]
     },
     "execution_count": 23,
     "metadata": {},
     "output_type": "execute_result"
    }
   ],
   "source": [
    "grey_img"
   ]
  },
  {
   "cell_type": "code",
   "execution_count": 24,
   "metadata": {},
   "outputs": [],
   "source": [
    "faces=face_cascade.detectMultiScale(grey_img,scaleFactor=1.05,minNeighbors=5)"
   ]
  },
  {
   "cell_type": "code",
   "execution_count": 25,
   "metadata": {},
   "outputs": [
    {
     "name": "stdout",
     "output_type": "stream",
     "text": [
      "<class 'numpy.ndarray'>\n"
     ]
    }
   ],
   "source": [
    "print(type(faces))"
   ]
  },
  {
   "cell_type": "code",
   "execution_count": 26,
   "metadata": {},
   "outputs": [
    {
     "name": "stdout",
     "output_type": "stream",
     "text": [
      "[[343  33 100 100]\n",
      " [195  49  99  99]]\n"
     ]
    }
   ],
   "source": [
    "print(faces)"
   ]
  },
  {
   "cell_type": "code",
   "execution_count": 31,
   "metadata": {},
   "outputs": [],
   "source": [
    "for x,y,w,h in faces:\n",
    "    img=cv2.rectangle(img, (x,y), (x+w,y+h),(255,0,0),3)"
   ]
  },
  {
   "cell_type": "code",
   "execution_count": 32,
   "metadata": {},
   "outputs": [],
   "source": [
    "cv2.imshow(\"grey\",img)\n",
    "cv2.waitKey(0)\n",
    "cv2.destroyAllWindows()"
   ]
  },
  {
   "cell_type": "code",
   "execution_count": null,
   "metadata": {},
   "outputs": [],
   "source": []
  }
 ],
 "metadata": {
  "kernelspec": {
   "display_name": "Python 3",
   "language": "python",
   "name": "python3"
  },
  "language_info": {
   "codemirror_mode": {
    "name": "ipython",
    "version": 3
   },
   "file_extension": ".py",
   "mimetype": "text/x-python",
   "name": "python",
   "nbconvert_exporter": "python",
   "pygments_lexer": "ipython3",
   "version": "3.7.4"
  }
 },
 "nbformat": 4,
 "nbformat_minor": 2
}
